{
 "cells": [
  {
   "cell_type": "markdown",
   "metadata": {},
   "source": [
    "## **Hands-on Activity:**\n",
    "### **Objective:**\n",
    "1. Implement OOP concepts such as class creation, attributes, methods, inheritance, and method overriding.\n",
    "2. Create a parent class Book with attributes title, author, and genre.\n",
    "3. Add a method display_details() to print book details (title, author, and genre).\n",
    "4. Create a child class EBook that inherits from Book and adds an attribute file_size (in MB).\n",
    "5. Override the display_details() method to include the file size in the output.\n",
    "6. Create another child class AudioBook that inherits from Book and adds attributes narrator and duration (in hours).\n",
    "7. Override the display_details() method to include the narrator and duration in the output.\n",
    "8. Instantiate objects of Book, EBook, and AudioBook.\n",
    "9. Call their respective display_details() methods to see the differences in their outputs."
   ]
  },
  {
   "cell_type": "code",
   "execution_count": 7,
   "metadata": {},
   "outputs": [
    {
     "name": "stdout",
     "output_type": "stream",
     "text": [
      "Title: The Alchemist\n",
      "Author: Paulo Coelho\n",
      "Genre: Fiction\n",
      "Title: The Great Gatsby\n",
      "Author: F. Scott Fitzgerald\n",
      "Genre: Fiction\n",
      "File Size: 2.5 MB\n",
      "Title: The Great Gatsby\n",
      "Author: F. Scott Fitzgerald\n",
      "Genre: Fiction\n",
      "Narrator: Jake Gyllenhaal\n",
      "Duration: 6 hours\n"
     ]
    }
   ],
   "source": [
    "class Book: # Parent class\n",
    "    def __init__(self, title, author, genre):\n",
    "        self.title = title\n",
    "        self.author = author\n",
    "        self.genre = genre\n",
    "\n",
    "    def display_details(self):\n",
    "        print(f\"Title: {self.title}\")\n",
    "        print(f\"Author: {self.author}\")\n",
    "        print(f\"Genre: {self.genre}\")\n",
    "\n",
    "class EBook(Book): # Child class\n",
    "    def __init__(self, title, author, genre, file_size, file_format=[\"PDF\", \"ePub\"]):\n",
    "        super().__init__(title, author, genre)\n",
    "        self.file_size = file_size\n",
    "\n",
    "    def display_details(self):\n",
    "        super().display_details()\n",
    "        print(f\"File Size: {self.file_size} MB\")\n",
    "        print(f\"File Format: {self.file_format}\")\n",
    "\n",
    "class AudioBook(Book): # Child class\n",
    "    def __init__(self, title, author, genre, narrator, duration ):\n",
    "        super().__init__(title, author, genre)\n",
    "        self.narrator = narrator\n",
    "        self.duration = duration\n",
    "\n",
    "    def display_details(self):\n",
    "        super().display_details()\n",
    "        print(f\"Narrator: {self.narrator}\")\n",
    "        print(f\"Duration: {self.duration} hours\")\n",
    "\n",
    "book1= Book(\"The Alchemist\", \"Paulo Coelho\", \"Fiction\")\n",
    "book1.display_details()\n",
    "\n",
    "EBook1 = EBook(\"The Great Gatsby\", \"F. Scott Fitzgerald\", \"Fiction\", 2.5, \"PDF\")\n",
    "EBook1.display_details()\n",
    "\n",
    "AudioBook1 = AudioBook(\"The Great Gatsby\", \"F. Scott Fitzgerald\", \"Fiction\", \"Jake Gyllenhaal\", 6)\n",
    "AudioBook1.display_details()"
   ]
  },
  {
   "cell_type": "code",
   "execution_count": null,
   "metadata": {},
   "outputs": [],
   "source": []
  }
 ],
 "metadata": {
  "kernelspec": {
   "display_name": "Python 3",
   "language": "python",
   "name": "python3"
  },
  "language_info": {
   "codemirror_mode": {
    "name": "ipython",
    "version": 3
   },
   "file_extension": ".py",
   "mimetype": "text/x-python",
   "name": "python",
   "nbconvert_exporter": "python",
   "pygments_lexer": "ipython3",
   "version": "3.13.2"
  }
 },
 "nbformat": 4,
 "nbformat_minor": 2
}
